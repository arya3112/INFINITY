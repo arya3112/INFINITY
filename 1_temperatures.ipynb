{
  "nbformat": 4,
  "nbformat_minor": 0,
  "metadata": {
    "colab": {
      "provenance": [],
      "toc_visible": true,
      "authorship_tag": "ABX9TyNMFiQmegvLk+5zWYHh/q95",
      "include_colab_link": true
    },
    "kernelspec": {
      "name": "python3",
      "display_name": "Python 3"
    },
    "language_info": {
      "name": "python"
    }
  },
  "cells": [
    {
      "cell_type": "markdown",
      "metadata": {
        "id": "view-in-github",
        "colab_type": "text"
      },
      "source": [
        "<a href=\"https://colab.research.google.com/github/arya3112/INFINITY/blob/main/1_temperatures.ipynb\" target=\"_parent\"><img src=\"https://colab.research.google.com/assets/colab-badge.svg\" alt=\"Open In Colab\"/></a>"
      ]
    },
    {
      "cell_type": "code",
      "source": [],
      "metadata": {
        "id": "MV7FFbJKRgqG"
      },
      "execution_count": null,
      "outputs": []
    },
    {
      "cell_type": "code",
      "source": [
        "#split training and testig dataset\n",
        "from sklearn.linear_model import LinearRegression\n"
      ],
      "metadata": {
        "id": "VLeCkofbCR_s"
      },
      "execution_count": null,
      "outputs": []
    },
    {
      "cell_type": "code",
      "source": [
        "import pandas as pd\n",
        "from sklearn.model_selection import train_test_split\n",
        "from sklearn.linear_model import LinearRegression\n",
        "\n",
        "# Load the data\n",
        "df = pd.read_csv(r'/content/temperatures.csv')\n",
        "\n",
        "# Assuming 'YEAR' and 'JAN' are columns in your dataframe\n",
        "# Extract the features (X) and target (y)\n",
        "x = df[['YEAR']]  # Use double brackets to select a column as a DataFrame\n",
        "y = df[['JAN']]   # Use double brackets to select a column as a DataFrame\n",
        "\n",
        "# Split the data into training and testing sets\n",
        "x_train, x_test, y_train, y_test = train_test_split(x, y, test_size=0.25, random_state=0)\n",
        "\n",
        "# Print the resulting sets\n",
        "print(\"x_train:\\n\", x_train)\n",
        "print(\"\\ny_train:\\n\", y_train)\n",
        "print(\"\\nx_test:\\n\", x_test)\n",
        "print(\"\\ny_test:\\n\", y_test)"
      ],
      "metadata": {
        "colab": {
          "base_uri": "https://localhost:8080/"
        },
        "id": "tRz6rhFxDtW_",
        "outputId": "7b2d93a5-5f67-4414-88e2-09196cbc143a"
      },
      "execution_count": null,
      "outputs": [
        {
          "output_type": "stream",
          "name": "stdout",
          "text": [
            "x_train:\n",
            "      YEAR\n",
            "97   1998\n",
            "66   1967\n",
            "109  2010\n",
            "3    1904\n",
            "63   1964\n",
            "..    ...\n",
            "113  2014\n",
            "67   1968\n",
            "64   1965\n",
            "47   1948\n",
            "44   1945\n",
            "\n",
            "[87 rows x 1 columns]\n",
            "\n",
            "y_train:\n",
            "        JAN\n",
            "97   23.95\n",
            "66   23.72\n",
            "109  24.89\n",
            "3    22.50\n",
            "63   23.06\n",
            "..     ...\n",
            "113  23.83\n",
            "67   22.67\n",
            "64   23.82\n",
            "47   22.87\n",
            "44   22.38\n",
            "\n",
            "[87 rows x 1 columns]\n",
            "\n",
            "x_test:\n",
            "      YEAR\n",
            "10   1911\n",
            "59   1960\n",
            "95   1996\n",
            "91   1992\n",
            "7    1908\n",
            "86   1987\n",
            "26   1927\n",
            "112  2013\n",
            "22   1923\n",
            "94   1995\n",
            "101  2002\n",
            "2    1903\n",
            "50   1951\n",
            "24   1925\n",
            "116  2017\n",
            "62   1963\n",
            "93   1994\n",
            "74   1975\n",
            "61   1962\n",
            "73   1974\n",
            "16   1917\n",
            "108  2009\n",
            "13   1914\n",
            "43   1944\n",
            "105  2006\n",
            "33   1934\n",
            "30   1931\n",
            "56   1957\n",
            "48   1949\n",
            "8    1909\n",
            "\n",
            "y_test:\n",
            "        JAN\n",
            "10   23.22\n",
            "59   23.78\n",
            "95   25.18\n",
            "91   23.84\n",
            "7    23.57\n",
            "86   23.81\n",
            "26   23.23\n",
            "112  24.56\n",
            "22   23.25\n",
            "94   24.44\n",
            "101  24.56\n",
            "2    23.44\n",
            "50   24.36\n",
            "24   22.56\n",
            "116  26.45\n",
            "62   22.90\n",
            "93   24.67\n",
            "74   23.15\n",
            "61   22.89\n",
            "73   23.54\n",
            "16   23.68\n",
            "108  25.27\n",
            "13   24.42\n",
            "43   23.17\n",
            "105  25.66\n",
            "33   22.76\n",
            "30   24.57\n",
            "56   22.98\n",
            "48   24.31\n",
            "8    22.67\n"
          ]
        }
      ]
    },
    {
      "cell_type": "code",
      "source": [
        "from sklearn.linear_model import LinearRegression\n",
        "ln=LinearRegression()#creating the object\n",
        "model=ln.fit(x_train,y_train)#in this step we actually train the model after this step training is complete"
      ],
      "metadata": {
        "id": "UKBJm0ju-WjW"
      },
      "execution_count": null,
      "outputs": []
    },
    {
      "cell_type": "code",
      "source": [
        "c=ln.intercept_#from fitting we get the value of l and r\n",
        "c"
      ],
      "metadata": {
        "colab": {
          "base_uri": "https://localhost:8080/"
        },
        "id": "Px88Jv0UCOT3",
        "outputId": "c86bae38-953b-45a7-a598-03becf831128"
      },
      "execution_count": null,
      "outputs": [
        {
          "output_type": "execute_result",
          "data": {
            "text/plain": [
              "array([-2.03972171])"
            ]
          },
          "metadata": {},
          "execution_count": 32
        }
      ]
    },
    {
      "cell_type": "code",
      "source": [],
      "metadata": {
        "id": "dgv7zhXSEL8y"
      },
      "execution_count": null,
      "outputs": []
    },
    {
      "cell_type": "code",
      "source": [
        "m=ln.coef_\n",
        "m"
      ],
      "metadata": {
        "colab": {
          "base_uri": "https://localhost:8080/"
        },
        "id": "9YitRzuiCpgN",
        "outputId": "0517952b-35ed-49df-e05e-0b347ec2d337"
      },
      "execution_count": null,
      "outputs": [
        {
          "output_type": "execute_result",
          "data": {
            "text/plain": [
              "array([[0.01309434]])"
            ]
          },
          "metadata": {},
          "execution_count": 33
        }
      ]
    },
    {
      "cell_type": "code",
      "source": [
        "#now since we have value of m and c we should be now able to predict y_train and y_test\n",
        "preds_train=ln.predict(x_train)\n",
        "y_pred=ln.predict(x_test)"
      ],
      "metadata": {
        "id": "qcQjtL-_ENcj"
      },
      "execution_count": null,
      "outputs": []
    },
    {
      "cell_type": "code",
      "source": [
        "#printing the predictions\n",
        "print(\"prediction of y with test input values x:\",y_pred)"
      ],
      "metadata": {
        "colab": {
          "base_uri": "https://localhost:8080/"
        },
        "id": "QdOV5gZiE1hC",
        "outputId": "1fb61b07-fa40-4df0-9f89-cbc92f510084"
      },
      "execution_count": null,
      "outputs": [
        {
          "output_type": "stream",
          "name": "stdout",
          "text": [
            "prediction of y with test input values x: [[22.98356275]\n",
            " [23.62518543]\n",
            " [24.09658168]\n",
            " [24.04420432]\n",
            " [22.94427973]\n",
            " [23.97873262]\n",
            " [23.19307219]\n",
            " [24.31918547]\n",
            " [23.14069483]\n",
            " [24.08348734]\n",
            " [24.17514772]\n",
            " [22.87880803]\n",
            " [23.50733636]\n",
            " [23.16688351]\n",
            " [24.37156283]\n",
            " [23.66446845]\n",
            " [24.070393  ]\n",
            " [23.82160053]\n",
            " [23.65137411]\n",
            " [23.80850619]\n",
            " [23.06212879]\n",
            " [24.26680811]\n",
            " [23.02284577]\n",
            " [23.41567598]\n",
            " [24.22752508]\n",
            " [23.28473258]\n",
            " [23.24544956]\n",
            " [23.58590241]\n",
            " [23.48114768]\n",
            " [22.95737407]]\n"
          ]
        }
      ]
    },
    {
      "cell_type": "code",
      "source": [
        "import numpy as np\n",
        "from sklearn.metrics import mean_absolute_error\n",
        "#calculation of mean squared error using numpy\n",
        "mse=np.mean((y_pred-y_test)**2)\n",
        "print(\"mean squared error=\",mse)"
      ],
      "metadata": {
        "colab": {
          "base_uri": "https://localhost:8080/"
        },
        "id": "d8zDgez6FiQU",
        "outputId": "9dc50c15-822e-45f2-89b3-e2c02e014e86"
      },
      "execution_count": null,
      "outputs": [
        {
          "output_type": "stream",
          "name": "stdout",
          "text": [
            "mean squared error= 0.6152615623919929\n"
          ]
        }
      ]
    },
    {
      "cell_type": "code",
      "source": [
        "MAE=mean_absolute_error(y_test,y_pred)#use direct function"
      ],
      "metadata": {
        "id": "CV3GkWn4MK7I"
      },
      "execution_count": null,
      "outputs": []
    },
    {
      "cell_type": "code",
      "source": [
        "import math\n",
        "rmse=math.sqrt(mse)\n",
        "print(\"root mean squared error=\",rmse)"
      ],
      "metadata": {
        "colab": {
          "base_uri": "https://localhost:8080/"
        },
        "id": "_l4gDKYuMsT7",
        "outputId": "6a9001f5-9a9e-4e16-be72-7a2e0477389a"
      },
      "execution_count": null,
      "outputs": [
        {
          "output_type": "stream",
          "name": "stdout",
          "text": [
            "root mean squared error= 0.784386105430223\n"
          ]
        }
      ]
    },
    {
      "cell_type": "code",
      "source": [
        "import matplotlib.pyplot as plt\n",
        "plt.scatter(x_train,y_train,color=\"blue\")\n",
        "#using trained linear regression model to predict temperatured for the trained years\n",
        "plt.plot(x_train,ln.predict(x_train),color=\"black\",linewidth=4)\n",
        "plt.title(\"temperature vs year\")\n",
        "plt.xlabel(\"year\")\n",
        "plt.ylabel(\"temperature\")\n",
        "plt.show()\n"
      ],
      "metadata": {
        "colab": {
          "base_uri": "https://localhost:8080/",
          "height": 472
        },
        "id": "G1BDEnL4NAsA",
        "outputId": "511ff415-a803-419d-f6a7-5806984b2202"
      },
      "execution_count": null,
      "outputs": [
        {
          "output_type": "display_data",
          "data": {
            "text/plain": [
              "<Figure size 640x480 with 1 Axes>"
            ],
            "image/png": "[encoded data removed]"
          },
          "metadata": {}
        }
      ]
    }
  ]
}